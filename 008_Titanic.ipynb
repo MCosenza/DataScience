{
 "cells": [
  {
   "cell_type": "markdown",
   "metadata": {},
   "source": [
    "#    '''\n",
    "    Essa é a lista dos passageiros do Titanic e suas informações.\n",
    "    Mais informações podem ser obtidas no link abaixo:\n",
    "    http://www.kaggle.com/c/titanic-gettingStarted/data\n",
    "    \n",
    "    Escrever um algorítmo que pegará a combinação dos atributos dos passageiros e \n",
    "    informará se o passageiro sobreviveu ao disastre.\n",
    "\n",
    "    Como o algorítmo alcançará 80% de precisão?\n",
    "    \n",
    "    Atributos:\n",
    "    Pclass          Classe do Passageiro (1 = 1st; 2 = 2nd; 3 = 3rd)\n",
    "    Survived        Sobreviveu (0 - Não; 1 - Sim)\n",
    "    Name            Nome\n",
    "    Sex             Sexo\n",
    "    Age             Idade\n",
    "    SibSp           Número de Irmãos/Cônjuges no Exterior\n",
    "    Parch           Número de Pais/Crianças a bordo\n",
    "    Ticket          Número Ticket\n",
    "    Fare            Tarifa do Passageiro\n",
    "    Cabin           Cabine\n",
    "    Embarked        Local de Embarque (C = Cherbourg; Q = Queenstown; S = Southampton)\n",
    "                    \n",
    "    OBS:\n",
    "    Pclass é uma classificação para status socioeconômico (SES)\n",
    "     1st-Alta; 2nd-Média; 3rd-Baixa\n",
    "\n",
    "    A idade está em anos, com decimais se a idade for menor que 1 ano\n",
    "    Se a idade foi estimada, está no formato xx.5\n",
    "\n",
    "    Com respeito as variáveis de relacionamento familiar (i.e. SibSp and Parch)\n",
    "    alguns parentes foram ignorados. São as definições usadas para for SibSp and Parch:\n",
    "\n",
    "    Sibling:  irmão, irmã, brother, sister, meio-irmão ou irmã-irmã do passageiro a bordo do Titanic\n",
    "    Spouse:   esposo ou esposa do passageiro a bordo do Titanic (amantes e noivas ignoradas)\n",
    "    Parent:   mãe ou pai do passageiro a bordo do Titanic\n",
    "    Child:    filho, filha son, daughter, enteado ou enteada do passageiro a bordo do Titanic\n",
    "    \n",
    "    Escreva sua previsão no dicionário \"predictions\". \n",
    "    A chave do dicionário poderia ser o id do passageiro (que pode ser acessada via \"PassegerId\" \n",
    "    e o valor associado poderia ser 1 se o passageiro sobreviveu ou 0 se não sobreviveu.\n",
    "    \n",
    "    Por exemplo, se o passageiro sobreviveu:\n",
    "    passenger_id = passenger['PassengerId']\n",
    "    predictions[passenger_id] = 1\n",
    "    \n",
    "    Se o passageiro não sobreviveu:\n",
    "    passenger_id = passenger['PassengerId']\n",
    "    predictions[passenger_id] = 0\n",
    "    \n",
    "    Os dados do Titanic podem ser obtidos com o link abaixo:\n",
    "    https://s3.amazonaws.com/content.udacity-data.com/courses/ud359/titanic_data.csv\n",
    "    '''\n"
   ]
  },
  {
   "cell_type": "code",
   "execution_count": null,
   "metadata": {
    "collapsed": true
   },
   "outputs": [],
   "source": [
    "# Ler arquivo .csv...\n",
    "# Define uma função para abertura de arquivo .csv...\n",
    "# Retorna o reader...\n",
    "\n",
    "import numpy\n",
    "import pandas as pd\n",
    "import statsmodels.api as sm\n",
    "\n",
    "def custom_heuristic(file_path):\n",
    "    df = pd.read_csv(file_path + 'titanic_data.csv')\n",
    "    \n",
    "    return df\n"
   ]
  },
  {
   "cell_type": "code",
   "execution_count": null,
   "metadata": {
    "collapsed": true
   },
   "outputs": [],
   "source": [
    "# Cria um dicionário e carrega com as informações do arquivo...\n",
    "\n",
    "def predict(df):\n",
    "    predictions = {}\n",
    "    \n",
    "    for row in df[:1]:\n",
    "        cabecalho = row.split(',') \n",
    "        for cab in cabecalho:\n",
    "            predictions[cab] = []\n",
    "      \n",
    "    for passenger_index, passenger in df.iterrows():  \n",
    "        \n",
    "        id_passenger= passenger['PassengerId']\n",
    "\n",
    "        predictions['PassengerId'].append(passenger['PassengerId'])\n",
    "        predictions['Survived'].append(passenger['Survived'])\n",
    "        predictions['Pclass'].append(passenger['Pclass'])\n",
    "        predictions['Name'].append(passenger['Name'])\n",
    "        predictions['Sex'].append(passenger['Sex'])\n",
    "        predictions['Age'].append(passenger['Age'])\n",
    "        predictions['SibSp'].append(passenger['SibSp'])\n",
    "        predictions['Parch'].append(passenger['Parch'])\n",
    "        predictions['Ticket'].append(passenger['Ticket'])\n",
    "        predictions['Fare'].append(passenger['Fare'])\n",
    "        predictions['Cabin'].append(passenger['Cabin'])\n",
    "        predictions['Embarked'].append(passenger['Embarked'])\n",
    "\n",
    "    return predictions"
   ]
  },
  {
   "cell_type": "code",
   "execution_count": null,
   "metadata": {},
   "outputs": [],
   "source": [
    "# execução...\n",
    "\n",
    "df = custom_heuristic('C:/Users/3Cats/')\n",
    "\n",
    "prd = predict(df)\n",
    "\n",
    "for iprd, nprd in enumerate(prd['Survived']):\n",
    "    if nprd == 1:\n",
    "        print (prd['Name'][iprd]+ ' sobreviveu!')\n"
   ]
  },
  {
   "cell_type": "code",
   "execution_count": null,
   "metadata": {
    "collapsed": true
   },
   "outputs": [],
   "source": []
  }
 ],
 "metadata": {
  "kernelspec": {
   "display_name": "Python 3",
   "language": "python",
   "name": "python3"
  },
  "language_info": {
   "codemirror_mode": {
    "name": "ipython",
    "version": 3
   },
   "file_extension": ".py",
   "mimetype": "text/x-python",
   "name": "python",
   "nbconvert_exporter": "python",
   "pygments_lexer": "ipython3",
   "version": "3.6.1"
  }
 },
 "nbformat": 4,
 "nbformat_minor": 2
}
