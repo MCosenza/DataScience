{
 "cells": [
  {
   "cell_type": "code",
   "execution_count": 9,
   "metadata": {},
   "outputs": [],
   "source": [
    "import numpy as np\n",
    "import pandas as pd\n",
    "import matplotlib.pyplot as plt\n",
    "\n",
    "def entries_histogram(turnstile_weather):\n",
    "    '''\n",
    "    Before we perform any analysis, it might be useful to take a\n",
    "    look at the data we're hoping to analyze. More specifically, let's \n",
    "    examine the hourly entries in our NYC subway data and determine what\n",
    "    distribution the data follows. This data is stored in a dataframe\n",
    "    called turnstile_weather under the ['ENTRIESn_hourly'] column.\n",
    "    \n",
    "    Let's plot two histograms on the same axes to show hourly\n",
    "    entries when raining vs. when not raining. Here's an example on how\n",
    "    to plot histograms with pandas and matplotlib:\n",
    "    turnstile_weather['column_to_graph'].hist()\n",
    "    \n",
    "    Your histogram may look similar to bar graph in the instructor notes below.\n",
    "    \n",
    "    You can read a bit about using matplotlib and pandas to plot histograms here:\n",
    "    http://pandas.pydata.org/pandas-docs/stable/visualization.html#histograms\n",
    "    \n",
    "    You can see the information contained within the turnstile weather data here:\n",
    "    https://s3.amazonaws.com/content.udacity-data.com/courses/ud359/turnstile_data_master_with_weather.csv\n",
    "    '''\n",
    "    \n",
    "    '''\n",
    "    O matplotlib.pyplot é uma coleção de funções e estilos que fazem com que o Matplotlib funcione como o Matlab\n",
    "    '''\n",
    "    bins = []\n",
    "    rain =[]\n",
    "    notRain =[]\n",
    "    \n",
    "    # Lendo o arquivo...\n",
    "    with open(turnstile_weather, 'r') as output_file:        \n",
    "        file = pd.read_csv(output_file)\n",
    "        lista = file.values.tolist()       \n",
    "\n",
    "    for row in lista:\n",
    "        bins.append(row[6])\n",
    "        if row[15] == 0:\n",
    "            notRain.append(row[6])\n",
    "        else:\n",
    "            rain.append(row[6])\n",
    "        \n",
    "    # Executa o matplotlib e exibe o gráfico dentro do Jupyter Notebook...    \n",
    "    %matplotlib inline\n",
    "    \n",
    "    # X e y tem de ter a mesma dimensão...\n",
    "    x = bins\n",
    "    y1 = rain\n",
    "    y2 = notRain\n",
    "    #maximo= max(y)\n",
    "    #minimo = min(y)\n",
    "    #plt.ylim = ([minimo,maximo])\n",
    "    \n",
    "    # figure() define um gráfico genérico...\n",
    "    #fig = plb.figure()    \n",
    "    \n",
    "    # O método .plot() define os eixos do gráfico...\n",
    "    # label define a legenda...\n",
    "    # color definir a cor...\n",
    "    # rwidth define a largura da barra...\n",
    "    #fig.plot(x,y,  color = 'r', label = \"ENTRIESn_hourly\")\n",
    "    #plt.bar(x,y,  color = 'r', label = \"ENTRIESn_hourly\", alpha=0.8)\n",
    "    plt.hist(y1, bins=None, rwidth=0.8, histtype='bar', color ='g', alpha=0.75)\n",
    "    plt.hist(y2, bins=None, rwidth=0.8, histtype='bar', color ='r', alpha=0.75)\n",
    "    #plt.acorr(x,normed=False)\n",
    "    \n",
    "    # Título do gráfico...\n",
    "    plt.title('Random Gaussian data (fixed bin size)')\n",
    "    \n",
    "    # Label do eixo x\n",
    "    plt.xlabel('variable X (bin size = 5)')\n",
    "    \n",
    "    # Label do eixo y...\n",
    "    plt.ylabel('count')\n",
    "    \n",
    "    # legenda do gráfico...\n",
    "    plt.legend ()\n",
    "\n",
    "    #plt.hist(data, \n",
    "    #         bins=None,\n",
    "    #         range=None, \n",
    "    #         density=None, \n",
    "     #        weights=None, \n",
    "    #         cumulative=False, \n",
    "     #        bottom=None, \n",
    "    #         https://matplotlib.org/1.3.0/index.html\n",
    "    #         align='left', \n",
    "    #         orientation='horizontal', \n",
    "    #         rwidth=None, \n",
    "    #        log=False, \n",
    "    #         color=None, \n",
    "    #         label=None, \n",
    "    #         stacked=True, \n",
    "    #         normed=1, \n",
    "     #        hold=None, \n",
    "   #         data=bins,)\n",
    "\n",
    "\n",
    "    plt.show()  \n",
    "\n",
    "    return plt"
   ]
  },
  {
   "cell_type": "code",
   "execution_count": 10,
   "metadata": {},
   "outputs": [
    {
     "data": {
      "image/png": "[encoded data removed]",
      "text/plain": [
       "<matplotlib.figure.Figure at 0x3a9bbb0>"
      ]
     },
     "metadata": {},
     "output_type": "display_data"
    },
    {
     "data": {
      "text/plain": [
       "<module 'matplotlib.pyplot' from 'C:\\\\Users\\\\3Cats\\\\Anaconda3\\\\lib\\\\site-packages\\\\matplotlib\\\\pyplot.py'>"
      ]
     },
     "execution_count": 10,
     "metadata": {},
     "output_type": "execute_result"
    }
   ],
   "source": [
    "entries_histogram('turnstile_data_master_with_weather.csv')"
   ]
  },
  {
   "cell_type": "code",
   "execution_count": null,
   "metadata": {},
   "outputs": [],
   "source": []
  }
 ],
 "metadata": {
  "kernelspec": {
   "display_name": "Python 3",
   "language": "python",
   "name": "python3"
  },
  "language_info": {
   "codemirror_mode": {
    "name": "ipython",
    "version": 3
   },
   "file_extension": ".py",
   "mimetype": "text/x-python",
   "name": "python",
   "nbconvert_exporter": "python",
   "pygments_lexer": "ipython3",
   "version": "3.6.3"
  }
 },
 "nbformat": 4,
 "nbformat_minor": 2
}
