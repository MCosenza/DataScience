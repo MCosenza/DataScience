{
 "cells": [
  {
   "cell_type": "code",
   "execution_count": null,
   "metadata": {},
   "outputs": [],
   "source": [
    "import sys\n",
    "\n",
    "def reducer():\n",
    "    # Inicialização das variáveis...\n",
    "    word_count = 0\n",
    "    old_key = None\n",
    "    \n",
    "    # Obtemos os pares chave-valor separados por tabulação...\n",
    "    for line in sys.stdin:\n",
    "        data = line.strip().split(\"\\t\")\n",
    "        \n",
    "        # Se a chave-valor tiver menos de uma chave ou valor...\n",
    "        # o comprimento não está correto e continuaremos na linha seguinte\n",
    "        if len(data) != 2:\n",
    "            continue\n",
    "        else:\n",
    "            this_key, count = data\n",
    "            \n",
    "            if old_key and old_key != this_key:\n",
    "                print (\"{0}\\t{1}\".format(old_key, word_count))\n",
    "                word_count = 0\n",
    "            \n",
    "            old_key = this_key\n",
    "            word_count + float(count)\n",
    "            \n",
    "        if old_key != None:\n",
    "            print (\"{0}\\t{1}\".format(old_key, word_count))\n",
    "        \n",
    "        "
   ]
  }
 ],
 "metadata": {
  "kernelspec": {
   "display_name": "Python 3",
   "language": "python",
   "name": "python3"
  },
  "language_info": {
   "codemirror_mode": {
    "name": "ipython",
    "version": 3
   },
   "file_extension": ".py",
   "mimetype": "text/x-python",
   "name": "python",
   "nbconvert_exporter": "python",
   "pygments_lexer": "ipython3",
   "version": "3.6.3"
  }
 },
 "nbformat": 4,
 "nbformat_minor": 2
}
