{
 "cells": [
  {
   "cell_type": "code",
   "execution_count": 9,
   "metadata": {},
   "outputs": [
    {
     "ename": "ModuleNotFoundError",
     "evalue": "No module named 'utils'",
     "output_type": "error",
     "traceback": [
      "\u001b[1;31m---------------------------------------------------------------------------\u001b[0m",
      "\u001b[1;31mModuleNotFoundError\u001b[0m                       Traceback (most recent call last)",
      "\u001b[1;32m<ipython-input-9-db7c1cbc9afb>\u001b[0m in \u001b[0;36m<module>\u001b[1;34m()\u001b[0m\n\u001b[0;32m      2\u001b[0m \u001b[1;32mimport\u001b[0m \u001b[0mstring\u001b[0m\u001b[1;33m\u001b[0m\u001b[0m\n\u001b[0;32m      3\u001b[0m \u001b[1;32mimport\u001b[0m \u001b[0mlogging\u001b[0m\u001b[1;33m\u001b[0m\u001b[0m\n\u001b[1;32m----> 4\u001b[1;33m \u001b[1;32mimport\u001b[0m \u001b[0mutils\u001b[0m\u001b[1;33m\u001b[0m\u001b[0m\n\u001b[0m\u001b[0;32m      5\u001b[0m \u001b[1;33m\u001b[0m\u001b[0m\n\u001b[0;32m      6\u001b[0m \u001b[1;31m#from util import mapper_logfile\u001b[0m\u001b[1;33m\u001b[0m\u001b[1;33m\u001b[0m\u001b[0m\n",
      "\u001b[1;31mModuleNotFoundError\u001b[0m: No module named 'utils'"
     ]
    }
   ],
   "source": [
    "import sys\n",
    "import string\n",
    "import logging\n",
    "import util\n",
    "\n",
    "#from util import mapper_logfile\n",
    "logging.basicConfig(filename=mapper_logfile, format='%(message)s', level=logging.INFO, filemode='w')\n",
    "\n",
    "def mapper():\n",
    "\n",
    "    #Also make sure to fill out the reducer code before clicking \"Test Run\" or \"Submit\".\n",
    "\n",
    "    #Each line will be a comma-separated list of values. The\n",
    "    #header row WILL be included. Tokenize each row using the \n",
    "    #commas, and emit (i.e. print) a key-value pair containing the \n",
    "    #district (not state) and Aadhaar generated, separated by a tab. \n",
    "    #Skip rows without the correct number of tokens and also skip \n",
    "    #the header row.\n",
    "\n",
    "    #You can see a copy of the the input Aadhaar data\n",
    "    #in the link below:\n",
    "    #https://www.dropbox.com/s/vn8t4uulbsfmalo/aadhaar_data.csv\n",
    "\n",
    "    #Since you are printing the output of your program, printing a debug \n",
    "    #statement will interfere with the operation of the grader. Instead, \n",
    "    #use the logging module, which we've configured to log to a file printed \n",
    "    #when you click \"Test Run\". For example:\n",
    "    #logging.info(\"My debugging message\")\n",
    "    #\n",
    "    #Note that, unlike print, logging.info will take only a single argument.\n",
    "    #So logging.info(\"my message\") will work, but logging.info(\"my\",\"message\") will not.\n",
    "\n",
    "    for line in sys.stdin:\n",
    "        data = line.strip.split(\" \")\n",
    "\n",
    "    mapper()\n"
   ]
  },
  {
   "cell_type": "code",
   "execution_count": null,
   "metadata": {},
   "outputs": [],
   "source": []
  }
 ],
 "metadata": {
  "kernelspec": {
   "display_name": "Python 3",
   "language": "python",
   "name": "python3"
  },
  "language_info": {
   "codemirror_mode": {
    "name": "ipython",
    "version": 3
   },
   "file_extension": ".py",
   "mimetype": "text/x-python",
   "name": "python",
   "nbconvert_exporter": "python",
   "pygments_lexer": "ipython3",
   "version": "3.6.3"
  }
 },
 "nbformat": 4,
 "nbformat_minor": 2
}
