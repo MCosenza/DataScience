{
 "cells": [
  {
   "cell_type": "code",
   "execution_count": 9,
   "metadata": {
    "collapsed": true
   },
   "outputs": [],
   "source": [
    "def maior(a,b,c):\n",
    "    if a > b:\n",
    "        if a > c:\n",
    "            maior = \"a\"\n",
    "        else:\n",
    "            maior = \"c\"\n",
    "    elif b > c:\n",
    "        maior = \"b\"\n",
    "    else:\n",
    "        maior = \"c\"\n",
    "        \n",
    "    return maior\n",
    "            "
   ]
  },
  {
   "cell_type": "code",
   "execution_count": 10,
   "metadata": {},
   "outputs": [
    {
     "name": "stdout",
     "output_type": "stream",
     "text": [
      "a\n",
      "c\n",
      "b\n",
      "a\n",
      "b\n",
      "c\n"
     ]
    }
   ],
   "source": [
    "print (maior(4,3,2))\n",
    "print (maior(3,2,4))\n",
    "print (maior(3,4,2))\n",
    "print (maior(4,2,3))\n",
    "print (maior(2,4,3))\n",
    "print (maior(2,3,4))"
   ]
  },
  {
   "cell_type": "code",
   "execution_count": null,
   "metadata": {
    "collapsed": true
   },
   "outputs": [],
   "source": []
  }
 ],
 "metadata": {
  "kernelspec": {
   "display_name": "Python 3",
   "language": "python",
   "name": "python3"
  },
  "language_info": {
   "codemirror_mode": {
    "name": "ipython",
    "version": 3
   },
   "file_extension": ".py",
   "mimetype": "text/x-python",
   "name": "python",
   "nbconvert_exporter": "python",
   "pygments_lexer": "ipython3",
   "version": "3.6.3"
  }
 },
 "nbformat": 4,
 "nbformat_minor": 2
}
