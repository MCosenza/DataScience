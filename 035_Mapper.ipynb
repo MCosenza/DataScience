{
 "cells": [
  {
   "cell_type": "code",
   "execution_count": 1,
   "metadata": {},
   "outputs": [],
   "source": [
    "def mapper():\n",
    "    # loop através de linhas de dados...\n",
    "    # Para cada linha do documento, cria um array consistindo nas palavras\n",
    "    # nessa linha de texto.\n",
    "    # Depois percorremos as palavras, apagamos toda a pontuação e\n",
    "    # passamos todas as palavras para minúsculas\n",
    "    for line in sys.stdin:\n",
    "        # separa a linha por espaçoes...\n",
    "        data = line.strip.split(\" \")\n",
    "        \n",
    "        #Para cada palavra gerada retimos a pontuação\n",
    "        # e geramos um par chave-valor.\n",
    "        # A palavra em si e o número 1.\n",
    "        # Note o par é separado por tabulação. Então se uma palavra aparecer várias vezes no documento\n",
    "        # emitiremos vários pares chave-valor idênticos.\n",
    "        # A palavra e o número 1\n",
    "        for i in data:\n",
    "            # limpa os dados...\n",
    "            cleaned_data = i.translate(string.maketrans(\"\",\"\"), string.punctuation).lower()\n",
    "            #gera a key-value...\n",
    "            print (\"{0}\\t{1}\".format(cleaned_data,1))\n",
    "            \n",
    "    mapper()"
   ]
  },
  {
   "cell_type": "code",
   "execution_count": null,
   "metadata": {},
   "outputs": [],
   "source": []
  }
 ],
 "metadata": {
  "kernelspec": {
   "display_name": "Python 3",
   "language": "python",
   "name": "python3"
  },
  "language_info": {
   "codemirror_mode": {
    "name": "ipython",
    "version": 3
   },
   "file_extension": ".py",
   "mimetype": "text/x-python",
   "name": "python",
   "nbconvert_exporter": "python",
   "pygments_lexer": "ipython3",
   "version": "3.6.3"
  }
 },
 "nbformat": 4,
 "nbformat_minor": 2
}
