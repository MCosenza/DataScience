{
 "cells": [
  {
   "cell_type": "code",
   "execution_count": null,
   "metadata": {},
   "outputs": [],
   "source": [
    "from pandas import *\n",
    "from ggplot import *\n",
    "import datetime\n",
    "\n",
    "def plot_weather_data(turnstile_weather):\n",
    "    '''\n",
    "    You are passed in a dataframe called turnstile_weather. \n",
    "    Use turnstile_weather along with ggplot to make a data visualization\n",
    "    focused on the MTA and weather data we used in assignment #3.  \n",
    "    You should feel free to implement something that we discussed in class \n",
    "    (e.g., scatterplots, line plots, or histograms) or attempt to implement\n",
    "    something more advanced if you'd like.  \n",
    "\n",
    "    Here are some suggestions for things to investigate and illustrate:\n",
    "     * Ridership by time of day or day of week\n",
    "     * How ridership varies based on Subway station (UNIT)\n",
    "     * Which stations have more exits or entries at different times of day\n",
    "       (You can use UNIT as a proxy for subway station.)\n",
    "\n",
    "    If you'd like to learn more about ggplot and its capabilities, take\n",
    "    a look at the documentation at:\n",
    "    https://pypi.python.org/pypi/ggplot/\n",
    "     \n",
    "    You can check out:\n",
    "    https://s3.amazonaws.com/content.udacity-data.com/courses/ud359/turnstile_data_master_with_weather.csv\n",
    "     \n",
    "    To see all the columns and data points included in the turnstile_weather \n",
    "    dataframe. \n",
    "     \n",
    "    However, due to the limitation of our Amazon EC2 server, we are giving you a random\n",
    "    subset, about 1/3 of the actual data in the turnstile_weather dataframe.\n",
    "    '''\n",
    "\n",
    "    pandas.options.mode.chained_assignment = None\n",
    "    \n",
    "    # Lendo o arquivo...\n",
    "    with open(turnstile_weather, 'r') as input_file:        \n",
    "        file = pandas.read_csv(input_file)  \n",
    "        lista = file.values.tolist() \n",
    "    \n",
    "    for row in lista:  \n",
    "        dt = datetime.datetime.strptime (row[2], '%Y-%m-%d')       \n",
    "        dia = getattr(dt, 'day')\n",
    "        mes = getattr(dt, 'month')\n",
    "        ano = getattr(dt, 'year')        \n",
    "        row.insert(22, dia)\n",
    "        row.insert(23, mes)\n",
    "        row.insert(24, ano)       \n",
    "   \n",
    "\n",
    "    labels =['id','UNIT','DATEn','TIMEn','Hour','DESCn','ENTRIESn_hourly','EXITSn_hourly','maxpressurei','maxdewpti','mindewpti','minpressurei','meandewpti','meanpressurei','fog','rain','meanwindspdi','mintempi','meantempi','maxtempi','precipi','thunder','Day','Month', 'Year']\n",
    "    df = pandas.DataFrame.from_records(lista, columns =labels)\n",
    "    \n",
    "    yvar = 'ENTRIESn_hourly'\n",
    "    xvar = 'Day'\n",
    "    category_var = 'UNIT'\n",
    "    \n",
    "    #plot = (ggplot(df, aes(x=xvar, fill = category_var)) + \n",
    "    plot =  (ggplot(aes(x=xvar, y=yvar, color=category_var), data=df) + \n",
    "          geom_bar(binwidth=100) +\n",
    "          ggtitle ('MTA by Day') +\n",
    "          xlab('Day') +\n",
    "          ylab('Ridership'))\n",
    "\n",
    "    return plot"
   ]
  },
  {
   "cell_type": "code",
   "execution_count": null,
   "metadata": {},
   "outputs": [],
   "source": [
    "print (plot_weather_data('turnstile_data_master_with_weather.csv'))"
   ]
  },
  {
   "cell_type": "code",
   "execution_count": null,
   "metadata": {},
   "outputs": [],
   "source": []
  }
 ],
 "metadata": {
  "kernelspec": {
   "display_name": "Python 3",
   "language": "python",
   "name": "python3"
  },
  "language_info": {
   "codemirror_mode": {
    "name": "ipython",
    "version": 3
   },
   "file_extension": ".py",
   "mimetype": "text/x-python",
   "name": "python",
   "nbconvert_exporter": "python",
   "pygments_lexer": "ipython3",
   "version": "3.6.3"
  }
 },
 "nbformat": 4,
 "nbformat_minor": 2
}
