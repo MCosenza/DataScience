{
 "cells": [
  {
   "cell_type": "code",
   "execution_count": null,
   "metadata": {
    "collapsed": true
   },
   "outputs": [],
   "source": [
    "import csv\n",
    "\n",
    "def fix_turnstile_data(filenames):\n",
    "    '''\n",
    "    Filenames is a list of MTA Subway turnstile text files. A link to an example\n",
    "    MTA Subway turnstile text file can be seen at the URL below:\n",
    "    http://web.mta.info/developers/turnstile.html\n",
    "    \n",
    "    As you can see, there are numerous data points included in each row of the\n",
    "    a MTA Subway turnstile text file. \n",
    "\n",
    "    You want to write a function that will update each row in the text\n",
    "    file so there is only one entry per row. A few examples below:\n",
    "    A002,R051,02-00-00,05-28-11,00:00:00,REGULAR,003178521,001100739\n",
    "    A002,R051,02-00-00,05-28-11,04:00:00,REGULAR,003178541,001100746\n",
    "    A002,R051,02-00-00,05-28-11,08:00:00,REGULAR,003178559,001100775\n",
    "    \n",
    "    Write the updates to a different text file in the format of \"updated_\" + filename.\n",
    "    For example:\n",
    "        1) if you read in a text file called \"turnstile_110521.txt\"\n",
    "        2) you should write the updated data to \"updated_turnstile_110521.txt\"\n",
    "\n",
    "    The order of the fields should be preserved. Remember to read through the \n",
    "    Instructor Notes below for more details on the task. \n",
    "    \n",
    "    In addition, here is a CSV reader/writer introductory tutorial:\n",
    "    http://goo.gl/HBbvyy\n",
    "    \n",
    "    You can see a sample of the turnstile text file that's passed into this function\n",
    "    and the the corresponding updated file by downloading these files from the resources:\n",
    "    \n",
    "    Field Description\n",
    "\n",
    "    C/A,UNIT,SCP,STATION,LINENAME,DIVISION,DATE,TIME,DESC,ENTRIES,EXITS\n",
    "\n",
    "\n",
    "    C/A      = Control Area (A002)\n",
    "    UNIT     = Remote Unit for a station (R051)\n",
    "    SCP      = Subunit Channel Position represents an specific address for a device (02-00-00)\n",
    "        STATION  = Represents the station name the device is located at\n",
    "        LINENAME = Represents all train lines that can be boarded at this station\n",
    "                   Normally lines are represented by one character.  LINENAME 456NQR repersents train server for 4, 5, 6, N, Q, and R trains.\n",
    "        DIVISION = Represents the Line originally the station belonged to BMT, IRT, or IND   \n",
    "    DATE     = Represents the date (MM-DD-YY)\n",
    "    TIME     = Represents the time (hh:mm:ss) for a scheduled audit event\n",
    "    DESc     = Represent the \"REGULAR\" scheduled audit event (Normally occurs every 4 hours)\n",
    "               1. Audits may occur more that 4 hours due to planning, or troubleshooting activities. \n",
    "               2. Additionally, there may be a \"RECOVR AUD\" entry: This refers to a missed audit that was recovered. \n",
    "    ENTRIES  = The comulative entry register value for a device\n",
    "    EXIST    = The cumulative exit register value for a device\n",
    "\n",
    "    Sample input file: turnstile_110528.txt\n",
    "    Sample updated file: solution_turnstile_110528.txt\n",
    "    '''\n",
    "    \n",
    "    arq = open(filenames, 'r')\n",
    "    reader = csv.reader(arq, delimiter = ',')\n",
    "    \n",
    "    wrt = open('update_' + filenames, 'w')\n",
    "    writer = csv.writer(wrt, delimiter = ',')\n",
    "       \n",
    "    for row in arq:\n",
    "        linha = row.split(',') \n",
    "        ca = linha[0]\n",
    "        unit = linha[1]\n",
    "        scp = linha[2]\n",
    "\n",
    "        for i in range(3,len(linha),5):\n",
    "            linha[-1] = linha[-1].strip()\n",
    "            data = [ca, unit, scp, linha[i], linha[i+1], linha[i+2], linha[i+3],linha[i+4]]\n",
    "            writer.writerow(data)\n",
    "            \n",
    "    arq.close()\n",
    "    wrt.close()\n"
   ]
  },
  {
   "cell_type": "code",
   "execution_count": null,
   "metadata": {
    "collapsed": true
   },
   "outputs": [],
   "source": [
    "fix_turnstile_data('turnstile_110528.txt')"
   ]
  }
 ],
 "metadata": {
  "kernelspec": {
   "display_name": "Python 3",
   "language": "python",
   "name": "python3"
  },
  "language_info": {
   "codemirror_mode": {
    "name": "ipython",
    "version": 3
   },
   "file_extension": ".py",
   "mimetype": "text/x-python",
   "name": "python",
   "nbconvert_exporter": "python",
   "pygments_lexer": "ipython3",
   "version": "3.6.3"
  }
 },
 "nbformat": 4,
 "nbformat_minor": 2
}
